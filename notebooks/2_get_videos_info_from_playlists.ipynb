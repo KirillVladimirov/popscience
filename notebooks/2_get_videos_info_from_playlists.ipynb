{
 "cells": [
  {
   "cell_type": "code",
   "execution_count": 1,
   "id": "0e56db46-4a98-4ce2-8f8b-8dd8d5031de0",
   "metadata": {},
   "outputs": [],
   "source": [
    "import sys, unittest, time, datetime\n",
    "import urllib.request, urllib.error, urllib.parse\n",
    "from selenium import webdriver\n",
    "from selenium.webdriver.common.by import By\n",
    "from selenium.webdriver.support.ui import WebDriverWait\n",
    "from selenium.webdriver.support import expected_conditions as EC\n",
    "from selenium.common.exceptions import InvalidArgumentException\n",
    "from tqdm.notebook import tqdm\n",
    "\n",
    "import pymongo\n",
    "from pymongo.errors import DuplicateKeyError\n",
    "from pymongo import MongoClient\n",
    "import traceback\n",
    "import pickle"
   ]
  },
  {
   "cell_type": "code",
   "execution_count": 2,
   "id": "7eab4184-1346-4d11-84c0-ebb4b1c4549f",
   "metadata": {},
   "outputs": [],
   "source": [
    "client = MongoClient()\n",
    "db = client.youtube\n",
    "collection = db.popscience"
   ]
  },
  {
   "cell_type": "code",
   "execution_count": null,
   "id": "348fb2c5-a14f-4fe9-a862-037b612a4a7d",
   "metadata": {},
   "outputs": [],
   "source": []
  },
  {
   "cell_type": "code",
   "execution_count": 5,
   "id": "d5371d5e-f1d0-4a6d-afb7-34c4e036481f",
   "metadata": {},
   "outputs": [],
   "source": [
    "with open('popscience_playlists.txt') as f:\n",
    "    yuotube_playlist_id_list = f.read().splitlines()"
   ]
  },
  {
   "cell_type": "code",
   "execution_count": 6,
   "id": "d20a0042-ff82-4150-aed8-15ebb661683c",
   "metadata": {},
   "outputs": [
    {
     "data": {
      "text/plain": [
       "['PL2jwxGybEFiuQVQtrLPaH7GNB8ak29634',\n",
       " 'PL2jwxGybEFity3pyl5SnPrgh7ERNCd4FD',\n",
       " 'PL2jwxGybEFivRT-UOnvV0RAh1ykwwRrmc',\n",
       " 'PL2jwxGybEFitFmGV0RdBNgbNBWFPtWRe0',\n",
       " 'PLYI-NYBPZXmizTp-oucPyUJL0zSWkgADo',\n",
       " 'PLYI-NYBPZXmjduCa-984TbdL_Tep3sH8G',\n",
       " 'PLYI-NYBPZXmhcO7mj6ixBVy77tvfA8GFM',\n",
       " 'PLYI-NYBPZXmhrm7Quz2x9tg8VsjXT3GQd',\n",
       " 'PLYI-NYBPZXmhoQt0lOq7lil9qFxaFBAHY',\n",
       " 'PLYI-NYBPZXmgieQfNXuu5JyinD3enTNct',\n",
       " 'PLYI-NYBPZXmhGZFRoBnfimimeDRPYz5TT',\n",
       " 'PLYI-NYBPZXmgIKFqU3d8kzy1pvtDZw52x',\n",
       " 'PLYI-NYBPZXmglqnB0IHwtkrHH69EVvI-t']"
      ]
     },
     "execution_count": 6,
     "metadata": {},
     "output_type": "execute_result"
    }
   ],
   "source": [
    "yuotube_playlist_id_list"
   ]
  },
  {
   "cell_type": "code",
   "execution_count": null,
   "id": "86a588e0-6e5a-417a-9666-4b05a22f40ed",
   "metadata": {},
   "outputs": [],
   "source": []
  },
  {
   "cell_type": "code",
   "execution_count": null,
   "id": "0f26b4e1-a8b4-4f0b-8ca5-6512ec7c9349",
   "metadata": {},
   "outputs": [],
   "source": []
  },
  {
   "cell_type": "markdown",
   "id": "8592f61f-fd0e-4b8b-b624-bac26f6b2737",
   "metadata": {},
   "source": [
    "# Скачивание информации по плейлистам без повторов"
   ]
  },
  {
   "cell_type": "code",
   "execution_count": 22,
   "id": "a268e100-8a47-4bc2-be60-97d4fba16ea2",
   "metadata": {},
   "outputs": [
    {
     "data": {
      "application/vnd.jupyter.widget-view+json": {
       "model_id": "",
       "version_major": 2,
       "version_minor": 0
      },
      "text/plain": [
       "  0%|          | 0/13 [00:00<?, ?it/s]"
      ]
     },
     "metadata": {},
     "output_type": "display_data"
    },
    {
     "name": "stdout",
     "output_type": "stream",
     "text": [
      "============ UnnounError ============\n"
     ]
    },
    {
     "name": "stderr",
     "output_type": "stream",
     "text": [
      "Traceback (most recent call last):\n",
      "  File \"<timed exec>\", line 24, in <module>\n",
      "NameError: name 'Playlist' is not defined\n"
     ]
    },
    {
     "name": "stdout",
     "output_type": "stream",
     "text": [
      "============ UnnounError ============\n"
     ]
    },
    {
     "name": "stderr",
     "output_type": "stream",
     "text": [
      "Traceback (most recent call last):\n",
      "  File \"<timed exec>\", line 24, in <module>\n",
      "NameError: name 'Playlist' is not defined\n"
     ]
    },
    {
     "name": "stdout",
     "output_type": "stream",
     "text": [
      "============ UnnounError ============\n"
     ]
    },
    {
     "name": "stderr",
     "output_type": "stream",
     "text": [
      "Traceback (most recent call last):\n",
      "  File \"<timed exec>\", line 24, in <module>\n",
      "NameError: name 'Playlist' is not defined\n"
     ]
    },
    {
     "name": "stdout",
     "output_type": "stream",
     "text": [
      "============ UnnounError ============\n"
     ]
    },
    {
     "name": "stderr",
     "output_type": "stream",
     "text": [
      "Traceback (most recent call last):\n",
      "  File \"<timed exec>\", line 24, in <module>\n",
      "NameError: name 'Playlist' is not defined\n"
     ]
    },
    {
     "name": "stdout",
     "output_type": "stream",
     "text": [
      "============ KeyboardInterrupt ============\n",
      "CPU times: user 107 ms, sys: 50.8 ms, total: 158 ms\n",
      "Wall time: 27.2 s\n"
     ]
    }
   ],
   "source": [
    "%%time\n",
    "\n",
    "sleep = 3\n",
    "URLError_counter = 0\n",
    "\n",
    "\n",
    "for playlist_id in tqdm(yuotube_playlist_id_list):\n",
    "    try:\n",
    "        playlist = f\"https://www.youtube.com/playlist?list={playlist_id}\"\n",
    "        \n",
    "        # Получение информации о плейлисте\n",
    "        driver = webdriver.Chrome('../chromedriver')\n",
    "        driver.get(playlist)\n",
    "        time.sleep(sleep)\n",
    "        user_data = driver.find_elements_by_xpath('//*[@id=\"description\"]')\n",
    "        pl_description = user_data[0].text\n",
    "        user_data = driver.find_elements_by_xpath(\"//*[contains(text(), 'views')]\")\n",
    "        pl_views = user_data[1].text\n",
    "        digits = [s for s in pl_views.split()[0] if s.isdigit()]\n",
    "        if len(digits) == 0:\n",
    "            pl_views = 0\n",
    "        else:\n",
    "            pl_views = int(\"\".join(digits))\n",
    "        driver.close()\n",
    "#         driver.quit()\n",
    "        p = Playlist(playlist)\n",
    "        pl_title = p.title\n",
    "          \n",
    "        for url in p.video_urls:\n",
    "            for i in range(10):\n",
    "                try:\n",
    "                    jon_tutorial = collection.find_one({\"origin_url\": url})\n",
    "                    if jon_tutorial is not None:\n",
    "                        break\n",
    "                        \n",
    "                    info = {}\n",
    "                    try:\n",
    "                        yt = YouTube(url)\n",
    "                    except VideoPrivate:\n",
    "                        print(f\"Private video {url}\")\n",
    "                        break\n",
    "                    except VideoUnavailable:\n",
    "                        print(f\"Unavailable video {url}\")\n",
    "                        break\n",
    "                    info[\"title\"] = yt.title\n",
    "                    info[\"playlist_title\"] = pl_title\n",
    "                    info[\"playlist_description\"] = pl_description\n",
    "                    info[\"playlist_views\"] = pl_views\n",
    "                    info[\"date\"] = yt.publish_date\n",
    "                    info[\"origin_url\"] = url\n",
    "                    info[\"views\"] = yt.views\n",
    "                    info[\"duation\"] = yt.length\n",
    "                    info[\"author\"] = yt.author\n",
    "                    info[\"tags\"] = yt.keywords\n",
    "                    info[\"about\"] = yt.description\n",
    "                    info[\"rating\"] = yt.rating\n",
    "                    info[\"platform\"] = \"YouTube\"\n",
    "                    info[\"theme\"] = yt.thumbnail_url\n",
    "                    if yt.captions.get(\"ru\") is not None:\n",
    "                        caption = yt.captions.get('ru')\n",
    "                        info[\"language\"] = \"ru\"\n",
    "                    elif yt.captions.get(\"a.ru\") is not None:\n",
    "                        caption = yt.captions.get('a.ru')\n",
    "                        info[\"language\"] = \"a.ru\"\n",
    "                    if caption:\n",
    "                        info[\"captions_xml\"] = caption.xml_captions\n",
    "                        info[\"captions_str\"] = caption.generate_srt_captions()\n",
    "                    result = collection.insert_one(info)\n",
    "                except DuplicateKeyError:\n",
    "                    print(\"============ DuplicateKeyError ============\")\n",
    "#                     traceback.print_exc()\n",
    "                    continue\n",
    "                except URLError:\n",
    "                    print(\"============ URLError ============\")\n",
    "                    traceback.print_exc()\n",
    "                    URLError_counter += 1\n",
    "                    if URLError_counter == 20:\n",
    "                        URLError_counter = 0\n",
    "                        break\n",
    "                    time.sleep(sleep)\n",
    "                    continue\n",
    "                except KeyError:\n",
    "                    print(\"============ KeyError ============\")\n",
    "                    break\n",
    "                else:\n",
    "                    break\n",
    "    except KeyboardInterrupt:\n",
    "        print(\"============ KeyboardInterrupt ============\")\n",
    "        break\n",
    "    except:\n",
    "        print(\"============ UnnounError ============\")\n",
    "        traceback.print_exc()\n",
    "        continue"
   ]
  },
  {
   "cell_type": "code",
   "execution_count": null,
   "id": "8da657ed-d1ea-4d11-8d04-1e0ca9a1ea39",
   "metadata": {},
   "outputs": [],
   "source": []
  },
  {
   "cell_type": "code",
   "execution_count": null,
   "id": "feffe20a-5b39-48d9-856a-cc2aff3ae635",
   "metadata": {},
   "outputs": [],
   "source": []
  }
 ],
 "metadata": {
  "kernelspec": {
   "display_name": "Python 3",
   "language": "python",
   "name": "python3"
  },
  "language_info": {
   "codemirror_mode": {
    "name": "ipython",
    "version": 3
   },
   "file_extension": ".py",
   "mimetype": "text/x-python",
   "name": "python",
   "nbconvert_exporter": "python",
   "pygments_lexer": "ipython3",
   "version": "3.8.10"
  }
 },
 "nbformat": 4,
 "nbformat_minor": 5
}
