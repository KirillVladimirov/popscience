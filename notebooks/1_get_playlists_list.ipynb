{
 "cells": [
  {
   "cell_type": "code",
   "execution_count": 25,
   "id": "aec78a6f-c8e9-4d41-982b-2df44e11638d",
   "metadata": {},
   "outputs": [],
   "source": [
    "import sys, unittest, time, datetime\n",
    "import urllib.request, urllib.error, urllib.parse\n",
    "from selenium import webdriver\n",
    "from selenium.webdriver.common.by import By\n",
    "from selenium.webdriver.support.ui import WebDriverWait\n",
    "from selenium.webdriver.support import expected_conditions as EC\n",
    "from selenium.common.exceptions import InvalidArgumentException\n",
    "from tqdm.notebook import tqdm\n",
    "\n",
    "import pymongo\n",
    "from pymongo.errors import DuplicateKeyError\n",
    "from pymongo import MongoClient\n",
    "import traceback\n",
    "import pickle"
   ]
  },
  {
   "cell_type": "code",
   "execution_count": 5,
   "id": "6b64dbab-c105-45f4-9c99-fbc80f940fdc",
   "metadata": {},
   "outputs": [],
   "source": [
    "client = MongoClient()\n",
    "db = client.youtube\n",
    "collection = db.popscience"
   ]
  },
  {
   "cell_type": "markdown",
   "id": "77fca96f-4d40-49b2-8744-c56780c0a9ab",
   "metadata": {},
   "source": [
    "# Получить список yuotube каналов"
   ]
  },
  {
   "cell_type": "code",
   "execution_count": 7,
   "id": "ca2c1d37-197c-41a6-82cf-0cd9b5c514d0",
   "metadata": {},
   "outputs": [],
   "source": [
    "with open('channels_list.txt') as f:\n",
    "    channels_list = f.read().splitlines()"
   ]
  },
  {
   "cell_type": "code",
   "execution_count": 8,
   "id": "d0a3f8e1-da1e-4730-a072-35eaa8baf812",
   "metadata": {},
   "outputs": [
    {
     "data": {
      "text/plain": [
       "(391, 355)"
      ]
     },
     "execution_count": 8,
     "metadata": {},
     "output_type": "execute_result"
    }
   ],
   "source": [
    "len(channels_list), len(set(channels_list))"
   ]
  },
  {
   "cell_type": "code",
   "execution_count": 9,
   "id": "be861b63-e1c1-44d2-bfa5-04528ce28c88",
   "metadata": {},
   "outputs": [],
   "source": [
    "channels_list = list(set(channels_list))"
   ]
  },
  {
   "cell_type": "markdown",
   "id": "83e0eb24-305c-46d7-9b7d-d8bb6b993e12",
   "metadata": {},
   "source": [
    "# Получение списка всех плейлистов "
   ]
  },
  {
   "cell_type": "code",
   "execution_count": 16,
   "id": "b466c5e0-e8ab-4b7b-9e54-4274776b7c71",
   "metadata": {},
   "outputs": [
    {
     "data": {
      "application/vnd.jupyter.widget-view+json": {
       "model_id": "510bb371d0944cd5ab6a58a4efe0544d",
       "version_major": 2,
       "version_minor": 0
      },
      "text/plain": [
       "  0%|          | 0/355 [00:00<?, ?it/s]"
      ]
     },
     "metadata": {},
     "output_type": "display_data"
    },
    {
     "ename": "KeyboardInterrupt",
     "evalue": "",
     "output_type": "error",
     "traceback": [
      "\u001b[0;31m---------------------------------------------------------------------------\u001b[0m",
      "\u001b[0;31mKeyboardInterrupt\u001b[0m                         Traceback (most recent call last)",
      "\u001b[0;32m<timed exec>\u001b[0m in \u001b[0;36m<module>\u001b[0;34m\u001b[0m\n",
      "\u001b[0;31mKeyboardInterrupt\u001b[0m: "
     ]
    }
   ],
   "source": [
    "%%time\n",
    "\n",
    "yuotube_playlist_id_list = []\n",
    "\n",
    "for channel_url in tqdm(channels_list): \n",
    "    driver = webdriver.Chrome('../chromedriver')\n",
    "    driver.get(channel_url+\"/playlists?view=1&sort=dd&shelf_id=0\")\n",
    "    time.sleep(5)\n",
    "    height = driver.execute_script(\"return document.documentElement.scrollHeight\")\n",
    "    lastheight = 0\n",
    "\n",
    "    while True:\n",
    "        if lastheight == height:\n",
    "            break\n",
    "        lastheight = height\n",
    "        driver.execute_script(\"window.scrollTo(0, \" + str(height) + \");\")\n",
    "        time.sleep(2)\n",
    "        height = driver.execute_script(\"return document.documentElement.scrollHeight\")\n",
    "\n",
    "    user_data = driver.find_elements_by_xpath('//*[@id=\"video-title\"]')\n",
    "    for i in user_data:\n",
    "        url = i.get_attribute('href')\n",
    "        playlist_id = url.split(\"=\")[-1]\n",
    "        yuotube_playlist_id_list.append(playlist_id)\n",
    "\n",
    "    driver.close()\n",
    "    driver.quit()"
   ]
  },
  {
   "cell_type": "code",
   "execution_count": 17,
   "id": "d7771a45-a3e4-49ca-951e-13623b347b17",
   "metadata": {},
   "outputs": [
    {
     "data": {
      "text/plain": [
       "['PL2jwxGybEFiuQVQtrLPaH7GNB8ak29634',\n",
       " 'PL2jwxGybEFity3pyl5SnPrgh7ERNCd4FD',\n",
       " 'PL2jwxGybEFivRT-UOnvV0RAh1ykwwRrmc',\n",
       " 'PL2jwxGybEFitFmGV0RdBNgbNBWFPtWRe0',\n",
       " 'PLYI-NYBPZXmizTp-oucPyUJL0zSWkgADo',\n",
       " 'PLYI-NYBPZXmjduCa-984TbdL_Tep3sH8G',\n",
       " 'PLYI-NYBPZXmhcO7mj6ixBVy77tvfA8GFM',\n",
       " 'PLYI-NYBPZXmhrm7Quz2x9tg8VsjXT3GQd',\n",
       " 'PLYI-NYBPZXmhoQt0lOq7lil9qFxaFBAHY',\n",
       " 'PLYI-NYBPZXmgieQfNXuu5JyinD3enTNct',\n",
       " 'PLYI-NYBPZXmhGZFRoBnfimimeDRPYz5TT',\n",
       " 'PLYI-NYBPZXmgIKFqU3d8kzy1pvtDZw52x',\n",
       " 'PLYI-NYBPZXmglqnB0IHwtkrHH69EVvI-t']"
      ]
     },
     "execution_count": 17,
     "metadata": {},
     "output_type": "execute_result"
    }
   ],
   "source": [
    "yuotube_playlist_id_list"
   ]
  },
  {
   "cell_type": "code",
   "execution_count": 18,
   "id": "3b63e4d4-3566-46de-82ca-fa98a2b31a30",
   "metadata": {},
   "outputs": [],
   "source": [
    "with open(\"popscience_playlists.txt\", 'w') as output:\n",
    "    for row in yuotube_playlist_id_list:\n",
    "        output.write(str(row) + '\\n')"
   ]
  },
  {
   "cell_type": "code",
   "execution_count": null,
   "id": "1eb76dbf-0143-4d1a-85ef-5b2d72a30376",
   "metadata": {},
   "outputs": [],
   "source": []
  }
 ],
 "metadata": {
  "kernelspec": {
   "display_name": "Python 3",
   "language": "python",
   "name": "python3"
  },
  "language_info": {
   "codemirror_mode": {
    "name": "ipython",
    "version": 3
   },
   "file_extension": ".py",
   "mimetype": "text/x-python",
   "name": "python",
   "nbconvert_exporter": "python",
   "pygments_lexer": "ipython3",
   "version": "3.8.10"
  }
 },
 "nbformat": 4,
 "nbformat_minor": 5
}
