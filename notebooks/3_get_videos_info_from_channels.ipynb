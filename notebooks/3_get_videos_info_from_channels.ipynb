{
 "cells": [
  {
   "cell_type": "code",
   "execution_count": null,
   "id": "d901ce6b-1831-4101-a4b8-4419bd9e405c",
   "metadata": {},
   "outputs": [],
   "source": [
    "import sys, unittest, time, datetime\n",
    "import urllib.request, urllib.error, urllib.parse\n",
    "from selenium import webdriver\n",
    "from selenium.webdriver.common.by import By\n",
    "from selenium.webdriver.support.ui import WebDriverWait\n",
    "from selenium.webdriver.support import expected_conditions as EC\n",
    "from selenium.common.exceptions import InvalidArgumentException\n",
    "from tqdm.notebook import tqdm\n",
    "\n",
    "import pymongo\n",
    "from pymongo.errors import DuplicateKeyError\n",
    "from pymongo import MongoClient\n",
    "import traceback\n",
    "import pickle"
   ]
  },
  {
   "cell_type": "code",
   "execution_count": null,
   "id": "cf569a4b-9b38-4c14-a9a3-e4c8d8fb4ee3",
   "metadata": {},
   "outputs": [],
   "source": [
    "client = MongoClient()\n",
    "db = client.youtube\n",
    "collection = db.popscience"
   ]
  },
  {
   "cell_type": "code",
   "execution_count": null,
   "id": "10fed93a-9508-482f-a8f0-10a04a209927",
   "metadata": {},
   "outputs": [],
   "source": []
  },
  {
   "cell_type": "code",
   "execution_count": null,
   "id": "e0d1d6c8-86e2-463f-9be3-67cb694b228b",
   "metadata": {},
   "outputs": [],
   "source": []
  },
  {
   "cell_type": "code",
   "execution_count": null,
   "id": "09a61c71-db78-4669-a657-271db3bd6b0b",
   "metadata": {},
   "outputs": [],
   "source": [
    "with open('youtube_links_list.txt') as f:\n",
    "    youtube_links_list = f.read().splitlines()"
   ]
  },
  {
   "cell_type": "markdown",
   "id": "3ed980f8-2e9a-4018-842a-e0e8e9674e9e",
   "metadata": {},
   "source": [
    "# Скачивание информации не вошедшей в плайлисты без повторов"
   ]
  },
  {
   "cell_type": "code",
   "execution_count": null,
   "id": "f17d7983-6ee3-4c5f-8dba-90aba660d789",
   "metadata": {},
   "outputs": [],
   "source": [
    "%%time\n",
    "\n",
    "sleep = 3\n",
    "URLError_counter = 0\n",
    "\n",
    "for url in tqdm(youtube_links_list):\n",
    "    try:\n",
    "        find_result = collection.find_one({\"origin_url\": url})\n",
    "        if find_result is not None:\n",
    "            continue\n",
    "\n",
    "        info = {}\n",
    "        try:\n",
    "            yt = YouTube(url)\n",
    "        except VideoPrivate:\n",
    "            print(f\"Private video {url}\")\n",
    "            continue\n",
    "        except VideoUnavailable:\n",
    "            print(f\"Unavailable video {url}\")\n",
    "            continue\n",
    "        info[\"title\"] = yt.title\n",
    "        info[\"playlist_title\"] = ''\n",
    "        info[\"playlist_description\"] = ''\n",
    "        info[\"playlist_views\"] = ''\n",
    "        info[\"date\"] = yt.publish_date\n",
    "        info[\"origin_url\"] = url\n",
    "        info[\"views\"] = yt.views\n",
    "        info[\"duation\"] = yt.length\n",
    "        info[\"author\"] = yt.author\n",
    "        info[\"tags\"] = yt.keywords\n",
    "        info[\"about\"] = yt.description\n",
    "        info[\"rating\"] = yt.rating\n",
    "        info[\"platform\"] = \"YouTube\"\n",
    "        info[\"theme\"] = yt.thumbnail_url\n",
    "        if yt.captions.get(\"ru\") is not None:\n",
    "            caption = yt.captions.get('ru')\n",
    "            info[\"language\"] = \"ru\"\n",
    "        elif yt.captions.get(\"a.ru\") is not None:\n",
    "            caption = yt.captions.get('a.ru')\n",
    "            info[\"language\"] = \"a.ru\"\n",
    "        if caption:\n",
    "            info[\"captions_xml\"] = caption.xml_captions\n",
    "            info[\"captions_str\"] = caption.generate_srt_captions()\n",
    "        result = collection.insert_one(info)\n",
    "    except DuplicateKeyError:\n",
    "        print(\"============ DuplicateKeyError ============\")\n",
    "        continue\n",
    "    except URLError:\n",
    "        print(\"============ URLError ============\")\n",
    "        traceback.print_exc()\n",
    "#         URLError_counter += 1\n",
    "#         if URLError_counter == 20:\n",
    "#             URLError_counter = 0\n",
    "#             break\n",
    "        time.sleep(sleep)\n",
    "        continue\n",
    "    except KeyError:\n",
    "        print(\"============ KeyError ============\")\n",
    "        continue\n",
    "    except KeyboardInterrupt:\n",
    "        print(\"============ KeyboardInterrupt ============\")\n",
    "        break\n",
    "    except:\n",
    "        print(\"============ UnnounError ============\")\n",
    "        traceback.print_exc()\n",
    "        continue\n",
    "#     else:\n",
    "#         print(\"============ ELSE ============\")\n",
    "#         break"
   ]
  },
  {
   "cell_type": "code",
   "execution_count": null,
   "id": "f59605c1-de57-4e2a-860c-0be6d7cece7e",
   "metadata": {},
   "outputs": [],
   "source": []
  },
  {
   "cell_type": "code",
   "execution_count": null,
   "id": "600a2828-dcec-41b0-aa28-e114291eea5f",
   "metadata": {},
   "outputs": [],
   "source": []
  },
  {
   "cell_type": "code",
   "execution_count": null,
   "id": "6867b0b6-0340-4801-836a-a1e06ccd414f",
   "metadata": {},
   "outputs": [],
   "source": []
  }
 ],
 "metadata": {
  "kernelspec": {
   "display_name": "Python 3",
   "language": "python",
   "name": "python3"
  },
  "language_info": {
   "codemirror_mode": {
    "name": "ipython",
    "version": 3
   },
   "file_extension": ".py",
   "mimetype": "text/x-python",
   "name": "python",
   "nbconvert_exporter": "python",
   "pygments_lexer": "ipython3",
   "version": "3.8.10"
  }
 },
 "nbformat": 4,
 "nbformat_minor": 5
}
